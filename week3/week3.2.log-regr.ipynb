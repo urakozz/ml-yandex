{
 "cells": [
  {
   "cell_type": "code",
   "execution_count": 60,
   "metadata": {
    "collapsed": false
   },
   "outputs": [],
   "source": [
    "%matplotlib inline\n",
    "import numpy as np\n",
    "import pandas as pd\n",
    "from sklearn import svm\n",
    "from scipy.spatial import distance\n",
    "import math\n",
    "import seaborn as sns\n",
    "import matplotlib.pyplot as plt\n",
    "import matplotlib\n",
    "sns.set(color_codes=True)"
   ]
  },
  {
   "cell_type": "code",
   "execution_count": 31,
   "metadata": {
    "collapsed": false
   },
   "outputs": [],
   "source": [
    "data = np.genfromtxt('data/data-logistic.csv', delimiter=\",\")"
   ]
  },
  {
   "cell_type": "code",
   "execution_count": 32,
   "metadata": {
    "collapsed": false
   },
   "outputs": [],
   "source": [
    "y = data[:,0]\n",
    "X = data[:,1:]"
   ]
  },
  {
   "cell_type": "code",
   "execution_count": 33,
   "metadata": {
    "collapsed": false
   },
   "outputs": [
    {
     "data": {
      "text/plain": [
       "array([ 0.,  0.,  0.])"
      ]
     },
     "execution_count": 33,
     "metadata": {},
     "output_type": "execute_result"
    }
   ],
   "source": [
    "np.zeros(3)"
   ]
  },
  {
   "cell_type": "code",
   "execution_count": 34,
   "metadata": {
    "collapsed": false
   },
   "outputs": [
    {
     "data": {
      "text/plain": [
       "array([1, 2, 3])"
      ]
     },
     "execution_count": 34,
     "metadata": {},
     "output_type": "execute_result"
    }
   ],
   "source": [
    "w0 = [1,2,3]\n",
    "w = np.array(w0)[:]\n",
    "w0[0] = 6\n",
    "w"
   ]
  },
  {
   "cell_type": "code",
   "execution_count": null,
   "metadata": {
    "collapsed": false
   },
   "outputs": [],
   "source": []
  },
  {
   "cell_type": "code",
   "execution_count": null,
   "metadata": {
    "collapsed": false
   },
   "outputs": [],
   "source": []
  },
  {
   "cell_type": "code",
   "execution_count": null,
   "metadata": {
    "collapsed": true
   },
   "outputs": [],
   "source": []
  },
  {
   "cell_type": "code",
   "execution_count": 35,
   "metadata": {
    "collapsed": false
   },
   "outputs": [],
   "source": [
    "def gradient_step(X,y,w,k=0.1,C=0):\n",
    "    # fill answer with zeroes [0,0]\n",
    "    out = np.array([0.0,0.0])\n",
    "    l = len(y)\n",
    "    # iterate through X,y\n",
    "    for idx in range(0, l):\n",
    "        x_cur = X[idx]\n",
    "        y_cur = y[idx]\n",
    "        w1 = y_cur * x_cur[0] * (1.0 - 1.0 / (1 + math.exp(-y_cur * np.dot(x_cur, w))))\n",
    "        w2 = y_cur * x_cur[1] * (1.0 - 1.0 / (1 + math.exp(-y_cur * np.dot(x_cur, w))))\n",
    "        out[0] += w1\n",
    "        out[1] += w2\n",
    "    \n",
    "    out *= k / l\n",
    "    out += w - k * C * w\n",
    "    return out\n",
    "    "
   ]
  },
  {
   "cell_type": "code",
   "execution_count": 36,
   "metadata": {
    "collapsed": true
   },
   "outputs": [],
   "source": [
    "def gd(X, y, k=0.1, w0=None, C=0, eps=1e-5, iteration_limit=10000):\n",
    "    # if w0 is zero, fill it with zeroes\n",
    "    if w0 == None:\n",
    "        w0 = np.array([0.0,0.0])\n",
    "    w = np.array(w0)[:] #copy w0\n",
    "    \n",
    "    for i in range(0, iteration_limit):\n",
    "        new_w = gradient_step(X,y,w,k,C)\n",
    "        diff = distance.euclidean(w, new_w)\n",
    "        w = new_w\n",
    "        if diff < eps:\n",
    "            print(\"break on iteration \", i)\n",
    "            break\n",
    "    \n",
    "    return w\n",
    "    \n",
    "    "
   ]
  },
  {
   "cell_type": "code",
   "execution_count": 75,
   "metadata": {
    "collapsed": false
   },
   "outputs": [
    {
     "name": "stdout",
     "output_type": "stream",
     "text": [
      "break on iteration  243\n",
      "break on iteration  7\n",
      "break on iteration  378\n"
     ]
    },
    {
     "name": "stderr",
     "output_type": "stream",
     "text": [
      "/usr/local/lib/python3.5/site-packages/ipykernel/__main__.py:3: FutureWarning: comparison to `None` will result in an elementwise object comparison in the future.\n",
      "  app.launch_new_instance()\n"
     ]
    }
   ],
   "source": [
    "w = gd(X,y)\n",
    "w_L2 = gd(X,y,C=10)\n",
    "w_w0 = gd(X,y,w0=np.array([0.0,3.0]))"
   ]
  },
  {
   "cell_type": "code",
   "execution_count": 39,
   "metadata": {
    "collapsed": true
   },
   "outputs": [],
   "source": [
    "def proba(X, w):\n",
    "    l = len(X)\n",
    "    p = np.zeros(l)\n",
    "    for idx in range(0, l):\n",
    "        x = X[idx]\n",
    "        p[idx] = (1.0 / (1 + math.exp(-1 * np.dot(x, w))))\n",
    "    return p"
   ]
  },
  {
   "cell_type": "code",
   "execution_count": 78,
   "metadata": {
    "collapsed": false
   },
   "outputs": [],
   "source": [
    "p = proba(X, w)\n",
    "p_L2 = proba(X, w_L2)\n",
    "p_w0 = proba(X, w_w0)"
   ]
  },
  {
   "cell_type": "code",
   "execution_count": 79,
   "metadata": {
    "collapsed": false
   },
   "outputs": [],
   "source": [
    "from sklearn.metrics import roc_auc_score"
   ]
  },
  {
   "cell_type": "code",
   "execution_count": 80,
   "metadata": {
    "collapsed": false
   },
   "outputs": [],
   "source": [
    "roc = roc_auc_score(y, p)\n",
    "roc_L2 = roc_auc_score(y, p_L2)\n",
    "roc_w0 = roc_auc_score(y, p_w0)"
   ]
  },
  {
   "cell_type": "code",
   "execution_count": 81,
   "metadata": {
    "collapsed": false
   },
   "outputs": [
    {
     "data": {
      "text/plain": [
       "0.93628571428571417"
      ]
     },
     "execution_count": 81,
     "metadata": {},
     "output_type": "execute_result"
    }
   ],
   "source": [
    "roc_L2"
   ]
  },
  {
   "cell_type": "code",
   "execution_count": 82,
   "metadata": {
    "collapsed": false
   },
   "outputs": [
    {
     "data": {
      "text/plain": [
       "0.92685714285714282"
      ]
     },
     "execution_count": 82,
     "metadata": {},
     "output_type": "execute_result"
    }
   ],
   "source": [
    "roc"
   ]
  },
  {
   "cell_type": "code",
   "execution_count": 83,
   "metadata": {
    "collapsed": false
   },
   "outputs": [
    {
     "data": {
      "text/plain": [
       "0.92685714285714282"
      ]
     },
     "execution_count": 83,
     "metadata": {},
     "output_type": "execute_result"
    }
   ],
   "source": [
    "roc_w0"
   ]
  },
  {
   "cell_type": "code",
   "execution_count": 55,
   "metadata": {
    "collapsed": false
   },
   "outputs": [
    {
     "name": "stdout",
     "output_type": "stream",
     "text": [
      "0.927 0.936\n"
     ]
    },
    {
     "data": {
      "text/plain": [
       "array([ 0.28781162,  0.0919833 ])"
      ]
     },
     "execution_count": 55,
     "metadata": {},
     "output_type": "execute_result"
    }
   ],
   "source": [
    "res = str(round(roc, 3)) + \" \" + str(round(roc_L2, 3))\n",
    "print(res)\n",
    "w"
   ]
  },
  {
   "cell_type": "code",
   "execution_count": 85,
   "metadata": {
    "collapsed": false
   },
   "outputs": [
    {
     "data": {
      "text/plain": [
       "<matplotlib.collections.PathCollection at 0x10d616f98>"
      ]
     },
     "execution_count": 85,
     "metadata": {},
     "output_type": "execute_result"
    },
    {
     "data": {
      "image/png": "[encoded data removed]",
      "text/plain": [
       "<matplotlib.figure.Figure at 0x10cc44358>"
      ]
     },
     "metadata": {},
     "output_type": "display_data"
    }
   ],
   "source": [
    "plt.plot([0,w[0]*20],[0, w[1]*20], color='black')\n",
    "plt.scatter(X[y == -1][:,0], X[y == -1][:,1], color='red')\n",
    "plt.scatter(X[y == 1][:,0], X[y == 1][:,1], color='blue')\n"
   ]
  },
  {
   "cell_type": "code",
   "execution_count": 89,
   "metadata": {
    "collapsed": false
   },
   "outputs": [
    {
     "data": {
      "text/plain": [
       "array([ 0.44922586,  0.69020649,  0.42798423,  0.6983426 ,  0.61440485])"
      ]
     },
     "execution_count": 89,
     "metadata": {},
     "output_type": "execute_result"
    }
   ],
   "source": [
    "p[:5]"
   ]
  },
  {
   "cell_type": "code",
   "execution_count": null,
   "metadata": {
    "collapsed": true
   },
   "outputs": [],
   "source": []
  }
 ],
 "metadata": {
  "kernelspec": {
   "display_name": "Python 3",
   "language": "python",
   "name": "python3"
  },
  "language_info": {
   "codemirror_mode": {
    "name": "ipython",
    "version": 3
   },
   "file_extension": ".py",
   "mimetype": "text/x-python",
   "name": "python",
   "nbconvert_exporter": "python",
   "pygments_lexer": "ipython3",
   "version": "3.5.1"
  }
 },
 "nbformat": 4,
 "nbformat_minor": 0
}
