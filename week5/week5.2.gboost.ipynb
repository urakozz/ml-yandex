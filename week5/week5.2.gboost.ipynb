{
 "cells": [
  {
   "cell_type": "code",
   "execution_count": 19,
   "metadata": {},
   "outputs": [],
   "source": [
    "%matplotlib inline\n",
    "import numpy as np\n",
    "import pandas as pd\n",
    "from sklearn import cross_validation\n",
    "from sklearn import metrics\n",
    "from  sklearn import ensemble\n",
    "import matplotlib.pyplot as plt\n",
    "import math"
   ]
  },
  {
   "cell_type": "code",
   "execution_count": 5,
   "metadata": {},
   "outputs": [],
   "source": [
    "data = pd.read_csv(\"data/gbm-data.csv\")"
   ]
  },
  {
   "cell_type": "code",
   "execution_count": 15,
   "metadata": {},
   "outputs": [
    {
     "data": {
      "text/plain": [
       "(3751, 1776)"
      ]
     },
     "execution_count": 15,
     "output_type": "execute_result",
     "metadata": {}
    }
   ],
   "source": [
    "X = data.values[:,1:]\n",
    "y = data.values[:,0]"
   ]
  },
  {
   "cell_type": "code",
   "execution_count": 16,
   "metadata": {},
   "outputs": [
    {
     "data": {
      "text/plain": [
       "(750, 1776)"
      ]
     },
     "execution_count": 16,
     "output_type": "execute_result",
     "metadata": {}
    }
   ],
   "source": [
    "X_train, X_test, y_train, y_test = cross_validation.train_test_split(X, y, test_size=0.8,random_state=241)\n",
    "X_train.shape"
   ]
  },
  {
   "cell_type": "code",
   "execution_count": 36,
   "metadata": {},
   "outputs": [
    {
     "name": "stdout",
     "output_type": "stream",
     "text": [
      "      Iter       Train Loss   Remaining Time \n",
      "         1           1.2613           23.30s\n",
      "         2           1.1715           23.92s\n",
      "         3           1.1009           24.36s\n",
      "         4           1.0529           24.67s\n",
      "         5           1.0130           25.26s\n",
      "         6           0.9740           25.13s\n",
      "         7           0.9475           24.13s\n",
      "         8           0.9197           23.99s\n",
      "         9           0.8979           23.56s\n",
      "        10           0.8730           23.56s\n",
      "        20           0.7207           20.91s\n",
      "        30           0.6055           19.65s\n",
      "        40           0.5244           18.49s\n",
      "        50           0.4501           17.41s\n",
      "        60           0.3908           16.48s\n",
      "        70           0.3372           15.71s\n",
      "        80           0.3009           14.74s\n",
      "        90           0.2603           13.88s\n",
      "       100           0.2327           12.94s\n",
      "       200           0.0835            4.27s\n"
     ]
    },
    {
     "data": {
      "image/png": "[encoded data removed]"
     },
     "output_type": "display_data",
     "metadata": {}
    }
   ],
   "source": [
    "#for rate in [1, 0.5, 0.3, 0.2, 0.1]: \n",
    "for rate in [0.2]:  \n",
    "    clf = ensemble.GradientBoostingClassifier(n_estimators=250, verbose=True, random_state=241, learning_rate=rate)\n",
    "    clf.fit(X_train, y_train)\n",
    "    on_train = clf.staged_decision_function(X_train)\n",
    "    on_test = clf.staged_decision_function(X_test)\n",
    "    plot_train = []\n",
    "    plot_test = []\n",
    "    for i, y_pred in enumerate(on_train):\n",
    "        y_pred_transformed = 1/(1+math.e**(-1*y_pred))\n",
    "        loss = metrics.log_loss(y_true=y_train, y_pred=y_pred_transformed)\n",
    "        plot_train.append([i+1, loss])\n",
    "    \n",
    "    for i, y_pred in enumerate(on_test):\n",
    "        y_pred_transformed = 1/(1+math.e**(-1*y_pred))\n",
    "        loss = metrics.log_loss(y_true=y_test, y_pred=y_pred_transformed)\n",
    "        plot_test.append([i+1, loss])\n",
    "    \n",
    "    plot_train = np.array(plot_train)\n",
    "    plot_test  = np.array(plot_test)\n",
    "    \n",
    "    plt.plot(plot_train[:, 0], plot_train[:, 1])\n",
    "    plt.plot(plot_test[:, 0], plot_test[:, 1])"
   ]
  },
  {
   "cell_type": "code",
   "execution_count": 45,
   "metadata": {},
   "outputs": [
    {
     "data": {
      "text/plain": [
       "array([ 37.        ,   0.53091816])"
      ]
     },
     "execution_count": 45,
     "output_type": "execute_result",
     "metadata": {}
    }
   ],
   "source": [
    "smallest_loss_i = plot_test[:, 1].argsort()[0]\n",
    "smallest_loss = plot_test[smallest_loss_i]\n",
    "smallest_loss"
   ]
  },
  {
   "cell_type": "code",
   "execution_count": 52,
   "metadata": {},
   "outputs": [
    {
     "name": "stdout",
     "output_type": "stream",
     "text": [
      "Smallest loss with n_estimators=37 is 0.53\n"
     ]
    }
   ],
   "source": [
    "print(\"Smallest loss with n_estimators=\" + str(int(smallest_loss[0])) + \" is \"+str(round(smallest_loss[1], 2)))"
   ]
  },
  {
   "cell_type": "code",
   "execution_count": 48,
   "metadata": {},
   "outputs": [],
   "source": [
    "forest_clf = ensemble.RandomForestClassifier(n_estimators=int(smallest_loss[0]), random_state=241)\n",
    "forest_clf.fit(X_train,y_train)\n",
    "predicted = forest_clf.predict_proba(X_test)\n",
    "loss = metrics.log_loss(y_true=y_test, y_pred=predicted)"
   ]
  },
  {
   "cell_type": "code",
   "execution_count": 50,
   "metadata": {},
   "outputs": [
    {
     "name": "stdout",
     "output_type": "stream",
     "text": [
      "0.54\n"
     ]
    }
   ],
   "source": [
    "print(str(round(loss, 2)))"
   ]
  },
  {
   "cell_type": "code",
   "execution_count": null,
   "metadata": {},
   "outputs": [],
   "source": [
    ""
   ]
  }
 ],
 "metadata": {
  "kernelspec": {
   "display_name": "Python 3",
   "language": "python",
   "name": "python3"
  },
  "language_info": {
   "codemirror_mode": {
    "name": "ipython",
    "version": 3.0
   },
   "file_extension": ".py",
   "mimetype": "text/x-python",
   "name": "python",
   "nbconvert_exporter": "python",
   "pygments_lexer": "ipython3",
   "version": "3.5.1"
  }
 },
 "nbformat": 4,
 "nbformat_minor": 0
}