{
 "cells": [
  {
   "cell_type": "code",
   "execution_count": 1,
   "metadata": {},
   "outputs": [],
   "source": [
    "from sklearn import decomposition\n",
    "import numpy as np\n",
    "import pandas as pd"
   ]
  },
  {
   "cell_type": "code",
   "execution_count": 2,
   "metadata": {},
   "outputs": [],
   "source": [
    "cp = pd.read_csv(\"data/close_prices.csv\")\n",
    "dj = pd.read_csv(\"data/djia_index.csv\")"
   ]
  },
  {
   "cell_type": "code",
   "execution_count": null,
   "metadata": {},
   "outputs": [],
   "source": [
    ""
   ]
  },
  {
   "cell_type": "code",
   "execution_count": 3,
   "metadata": {},
   "outputs": [],
   "source": [
    "cp_data = cp.iloc[:,1:]\n",
    "dj_data = dj.iloc[:,1]"
   ]
  },
  {
   "cell_type": "code",
   "execution_count": null,
   "metadata": {},
   "outputs": [],
   "source": [
    ""
   ]
  },
  {
   "cell_type": "code",
   "execution_count": 16,
   "metadata": {},
   "outputs": [
    {
     "data": {
      "text/plain": [
       "PCA(copy=True, n_components=4, whiten=False)"
      ]
     },
     "execution_count": 16,
     "output_type": "execute_result",
     "metadata": {}
    }
   ],
   "source": [
    "clf = decomposition.PCA(n_components=4)\n",
    "clf.fit(cp_data)"
   ]
  },
  {
   "cell_type": "code",
   "execution_count": 17,
   "metadata": {},
   "outputs": [
    {
     "data": {
      "text/plain": [
       "(4, 30)"
      ]
     },
     "execution_count": 17,
     "output_type": "execute_result",
     "metadata": {}
    }
   ],
   "source": [
    "np.array(clf.components_).shape"
   ]
  },
  {
   "cell_type": "code",
   "execution_count": 18,
   "metadata": {},
   "outputs": [
    {
     "data": {
      "text/plain": [
       "array([ 0.73897118,  0.11007169,  0.04995088,  0.0287492 ])"
      ]
     },
     "execution_count": 18,
     "output_type": "execute_result",
     "metadata": {}
    }
   ],
   "source": [
    "clf.explained_variance_ratio_"
   ]
  },
  {
   "cell_type": "code",
   "execution_count": 19,
   "metadata": {},
   "outputs": [
    {
     "name": "stdout",
     "output_type": "stream",
     "text": [
      "4\n"
     ]
    }
   ],
   "source": [
    "r = 0\n",
    "for k, v in enumerate(clf.explained_variance_ratio_):\n",
    "    r+=v\n",
    "    if r > 0.9:\n",
    "        print(k+1)\n",
    "        break"
   ]
  },
  {
   "cell_type": "code",
   "execution_count": 20,
   "metadata": {},
   "outputs": [],
   "source": [
    "components = clf.transform(cp_data)"
   ]
  },
  {
   "cell_type": "code",
   "execution_count": 21,
   "metadata": {},
   "outputs": [
    {
     "data": {
      "text/plain": [
       "(374, 4)"
      ]
     },
     "execution_count": 21,
     "output_type": "execute_result",
     "metadata": {}
    }
   ],
   "source": [
    "np.array(components).shape"
   ]
  },
  {
   "cell_type": "code",
   "execution_count": 22,
   "metadata": {},
   "outputs": [],
   "source": [
    "corr = np.corrcoef(components[:, 0], dj_data)"
   ]
  },
  {
   "cell_type": "code",
   "execution_count": 23,
   "metadata": {},
   "outputs": [
    {
     "name": "stdout",
     "output_type": "stream",
     "text": [
      "0.91\n"
     ]
    }
   ],
   "source": [
    "print(round(corr[0][1], 2))"
   ]
  },
  {
   "cell_type": "code",
   "execution_count": 24,
   "metadata": {},
   "outputs": [
    {
     "data": {
      "text/plain": [
       "[0.016138383984734668,\n",
       " 0.12064492322861052,\n",
       " -0.05166127108088304,\n",
       " 0.050484236916854,\n",
       " -0.12585993303584916,\n",
       " 0.11408956671451202,\n",
       " 0.23390628951791717,\n",
       " -0.0062051374900815685,\n",
       " 0.2512270320908978,\n",
       " 0.2889960291670741,\n",
       " -0.2649987952548475,\n",
       " 0.09313201682640551,\n",
       " 0.09139484029206295,\n",
       " 0.04698793402659351,\n",
       " 0.02905494171554041,\n",
       " -0.026106882759563035,\n",
       " 0.3296155838158524,\n",
       " 0.07138971328880248,\n",
       " 0.07622956987651142,\n",
       " 0.21188886780132182,\n",
       " 0.023092294068853495,\n",
       " 0.077731695391623,\n",
       " -0.007205945895008234,\n",
       " 0.1894797446461945,\n",
       " 0.3215640173761906,\n",
       " 0.053683487328683235,\n",
       " 0.5796839457473607,\n",
       " 0.00010912222981036018,\n",
       " 0.08716143338286812,\n",
       " -0.04294214199291975]"
      ]
     },
     "execution_count": 24,
     "output_type": "execute_result",
     "metadata": {}
    }
   ],
   "source": [
    "clf.components_[0].tolist()"
   ]
  },
  {
   "cell_type": "code",
   "execution_count": 25,
   "metadata": {},
   "outputs": [
    {
     "data": {
      "text/plain": [
       "{'AXP': 0.016138383984734668,\n",
       " 'BA': 0.12064492322861052,\n",
       " 'CAT': -0.051661271080883038,\n",
       " 'CSCO': 0.050484236916853997,\n",
       " 'CVX': -0.12585993303584916,\n",
       " 'DD': 0.11408956671451202,\n",
       " 'DIS': 0.23390628951791717,\n",
       " 'GE': -0.0062051374900815685,\n",
       " 'GS': 0.25122703209089781,\n",
       " 'HD': 0.28899602916707412,\n",
       " 'IBM': -0.26499879525484749,\n",
       " 'INTC': 0.093132016826405511,\n",
       " 'JNJ': 0.091394840292062948,\n",
       " 'JPM': 0.046987934026593507,\n",
       " 'KO': 0.029054941715540409,\n",
       " 'MCD': -0.026106882759563035,\n",
       " 'MMM': 0.32961558381585238,\n",
       " 'MRK': 0.071389713288802475,\n",
       " 'MSFT': 0.076229569876511416,\n",
       " 'NKE': 0.21188886780132182,\n",
       " 'PFE': 0.023092294068853495,\n",
       " 'PG': 0.077731695391623001,\n",
       " 'T': -0.0072059458950082343,\n",
       " 'TRV': 0.18947974464619449,\n",
       " 'UNH': 0.32156401737619061,\n",
       " 'UTX': 0.053683487328683235,\n",
       " 'V': 0.57968394574736071,\n",
       " 'VZ': 0.00010912222981036018,\n",
       " 'WMT': 0.087161433382868123,\n",
       " 'XOM': -0.04294214199291975}"
      ]
     },
     "execution_count": 25,
     "output_type": "execute_result",
     "metadata": {}
    }
   ],
   "source": [
    "d = dict(zip(cp_data.columns.values, clf.components_[0]))\n",
    "d"
   ]
  },
  {
   "cell_type": "code",
   "execution_count": 90,
   "metadata": {},
   "outputs": [
    {
     "data": {
      "text/plain": [
       "'V'"
      ]
     },
     "execution_count": 90,
     "output_type": "execute_result",
     "metadata": {}
    }
   ],
   "source": [
    "cp_data.columns.values[np.argsort(clf.components_[0])][::-1][0]"
   ]
  },
  {
   "cell_type": "code",
   "execution_count": 89,
   "metadata": {},
   "outputs": [
    {
     "data": {
      "text/plain": [
       "{'AXP': 0.016138383984734668,\n",
       " 'BA': 0.12064492322861052,\n",
       " 'CAT': -0.051661271080883038,\n",
       " 'CSCO': 0.050484236916853997,\n",
       " 'CVX': -0.12585993303584916,\n",
       " 'DD': 0.11408956671451202,\n",
       " 'DIS': 0.23390628951791717,\n",
       " 'GE': -0.0062051374900815685,\n",
       " 'GS': 0.25122703209089781,\n",
       " 'HD': 0.28899602916707412,\n",
       " 'IBM': -0.26499879525484749,\n",
       " 'INTC': 0.093132016826405511,\n",
       " 'JNJ': 0.091394840292062948,\n",
       " 'JPM': 0.046987934026593507,\n",
       " 'KO': 0.029054941715540409,\n",
       " 'MCD': -0.026106882759563035,\n",
       " 'MMM': 0.32961558381585238,\n",
       " 'MRK': 0.071389713288802475,\n",
       " 'MSFT': 0.076229569876511416,\n",
       " 'NKE': 0.21188886780132182,\n",
       " 'PFE': 0.023092294068853495,\n",
       " 'PG': 0.077731695391623001,\n",
       " 'T': -0.0072059458950082343,\n",
       " 'TRV': 0.18947974464619449,\n",
       " 'UNH': 0.32156401737619061,\n",
       " 'UTX': 0.053683487328683235,\n",
       " 'V': 0.57968394574736071,\n",
       " 'VZ': 0.00010912222981036018,\n",
       " 'WMT': 0.087161433382868123,\n",
       " 'XOM': -0.04294214199291975}"
      ]
     },
     "execution_count": 89,
     "output_type": "execute_result",
     "metadata": {}
    }
   ],
   "source": [
    "d"
   ]
  },
  {
   "cell_type": "code",
   "execution_count": null,
   "metadata": {},
   "outputs": [],
   "source": [
    ""
   ]
  }
 ],
 "metadata": {
  "kernelspec": {
   "display_name": "Python 3",
   "language": "python",
   "name": "python3"
  },
  "language_info": {
   "codemirror_mode": {
    "name": "ipython",
    "version": 3.0
   },
   "file_extension": ".py",
   "mimetype": "text/x-python",
   "name": "python",
   "nbconvert_exporter": "python",
   "pygments_lexer": "ipython3",
   "version": "3.5.1"
  }
 },
 "nbformat": 4,
 "nbformat_minor": 0
}